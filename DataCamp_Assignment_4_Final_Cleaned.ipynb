{
 "cells": [
  {
   "cell_type": "markdown",
   "metadata": {
    "id": "EoSCqZJe2901"
   },
   "source": [
    "# Import all the Necessary libraries"
   ]
  },
  {
   "cell_type": "markdown",
   "metadata": {
    "id": "M6oJa23P3DJS"
   },
   "source": [
    "# Upload & Load the Dataset"
   ]
  },
  {
   "cell_type": "markdown",
   "metadata": {
    "id": "yTgrBUNYDI57"
   },
   "source": [
    "# **Pre-Processing Steps**"
   ]
  },
  {
   "cell_type": "markdown",
   "metadata": {
    "id": "P9dU3Y7RhM5A"
   },
   "source": [
    "Replacing the Remaining Missing Values"
   ]
  },
  {
   "cell_type": "markdown",
   "metadata": {
    "id": "JRqTVHF6Pl6U"
   },
   "source": [
    "**Converting DataTypes**"
   ]
  },
  {
   "cell_type": "markdown",
   "metadata": {
    "id": "A5EURwwWZq22"
   },
   "source": [
    "**Numerical Features before the Outlier Removal**"
   ]
  },
  {
   "cell_type": "markdown",
   "metadata": {
    "id": "E1_Eor0xfOn2"
   },
   "source": [
    "**Outlier Treatment**"
   ]
  },
  {
   "cell_type": "markdown",
   "metadata": {
    "id": "3gfXy2K36aMn"
   },
   "source": [
    "**Neumerical Features after the Outlier Removal**"
   ]
  },
  {
   "cell_type": "markdown",
   "metadata": {
    "id": "nd0ZgYJ6lvGC"
   },
   "source": [
    "**Feature Scaling**"
   ]
  },
  {
   "cell_type": "markdown",
   "metadata": {
    "id": "irgUI0hbZ07r"
   },
   "source": [
    "**Before PreProcessing & After PreProcessing Comparison**"
   ]
  },
  {
   "cell_type": "markdown",
   "metadata": {
    "id": "zcau-09cHZ2n"
   },
   "source": [
    "**Checking correlation between the columns**"
   ]
  },
  {
   "cell_type": "markdown",
   "metadata": {
    "id": "PmKBMXfcHu6t"
   },
   "source": [
    "**Scatter Matrix to display the correlation and Dropping columns with constant or close to constant values**\n"
   ]
  },
  {
   "cell_type": "markdown",
   "metadata": {
    "id": "UsffwuIUIDlP"
   },
   "source": [
    "**Generating Heatmap**"
   ]
  },
  {
   "cell_type": "markdown",
   "metadata": {
    "id": "l1MGUYK7IG8h"
   },
   "source": [
    "**Dropping highly correlated columns**"
   ]
  },
  {
   "cell_type": "markdown",
   "metadata": {
    "id": "o95jb0N5IO7C"
   },
   "source": [
    "**Cleaning the dataset**"
   ]
  },
  {
   "cell_type": "markdown",
   "metadata": {
    "id": "9URCGCxoZ_Jw"
   },
   "source": [
    "# **Splitting Data to Train & Test**"
   ]
  },
  {
   "cell_type": "markdown",
   "metadata": {
    "id": "3hx23wjV2YK8"
   },
   "source": [
    "# **Training and Evaluating Logistic Regression Model**"
   ]
  },
  {
   "cell_type": "markdown",
   "metadata": {
    "id": "ge6mioqh5iqJ"
   },
   "source": [
    "# **Training and Evaluating Decision Tree Model**"
   ]
  },
  {
   "cell_type": "markdown",
   "metadata": {
    "id": "8DoR2_l85nSX"
   },
   "source": [
    "# **Training and Evaluating SVM (Support Vector Machine) Model**"
   ]
  },
  {
   "cell_type": "markdown",
   "metadata": {
    "id": "p121iO_MintM"
   },
   "source": [
    "# **Training and Evaluating Random Forest Model**"
   ]
  },
  {
   "cell_type": "markdown",
   "metadata": {
    "id": "OMBrP7y1ir5X"
   },
   "source": [
    "# **Training and Evaluating XGBoost Model**"
   ]
  },
  {
   "cell_type": "markdown",
   "metadata": {
    "id": "gSsc96UKix2Q"
   },
   "source": [
    "# **Training and Evaluating AdaBoost Model**"
   ]
  },
  {
   "cell_type": "markdown",
   "metadata": {
    "id": "pClsOe7P5uPu"
   },
   "source": [
    "# **Comparison Table for All The Models**"
   ]
  },
  {
   "cell_type": "markdown",
   "metadata": {
    "id": "RJk52JGejGYf"
   },
   "source": [
    "# **Code Improvement**"
   ]
  },
  {
   "cell_type": "markdown",
   "metadata": {
    "id": "pRbLoHV9QIkg"
   },
   "source": [
    "**Balancing the data using SMOTE**"
   ]
  },
  {
   "cell_type": "markdown",
   "metadata": {
    "id": "3gQdAJJmnP8z"
   },
   "source": [
    "# HyperParameter Tuning"
   ]
  },
  {
   "cell_type": "markdown",
   "metadata": {
    "id": "_q_U6ZoPnUYT"
   },
   "source": [
    "**Scaling & Resampling the dataset for hyperparameter tuning**"
   ]
  },
  {
   "cell_type": "markdown",
   "metadata": {
    "id": "-FO54Bp-nbvU"
   },
   "source": [
    "**Function for the Hyperparameter Tuning**"
   ]
  },
  {
   "cell_type": "markdown",
   "metadata": {
    "id": "4Rnp5ihTnktH"
   },
   "source": [
    "**Setting the hyperparameters**"
   ]
  },
  {
   "cell_type": "markdown",
   "metadata": {
    "id": "3FrDjFTnnpHA"
   },
   "source": [
    "**Setting up the Models & Grids**"
   ]
  },
  {
   "cell_type": "markdown",
   "metadata": {
    "id": "WwsoBmEWntZf"
   },
   "source": [
    "**Specifying the tasks to be completed**"
   ]
  },
  {
   "cell_type": "markdown",
   "metadata": {
    "id": "V1aHo87hnyO5"
   },
   "source": [
    "**Initiating HyperParameter Tuning & Storing the Best Results & Parameters**"
   ]
  },
  {
   "cell_type": "markdown",
   "metadata": {
    "id": "baoqvOcon5nV"
   },
   "source": [
    "**Evaluating the Best Parameters**"
   ]
  },
  {
   "cell_type": "markdown",
   "metadata": {
    "id": "yza6GIMNn-_o"
   },
   "source": [
    "**Comparison Table with the Initial Model**"
   ]
  },
  {
   "cell_type": "markdown",
   "metadata": {
    "id": "96pF_9f-oDV4"
   },
   "source": [
    "# Ensemble Learning"
   ]
  },
  {
   "cell_type": "markdown",
   "metadata": {
    "id": "Ke4acy_7oG_t"
   },
   "source": [
    "**Using VotingClassifier as the Ensembling Method**"
   ]
  }
 ],
 "metadata": {
  "accelerator": "TPU",
  "colab": {
   "gpuType": "V28",
   "provenance": []
  },
  "kernelspec": {
   "display_name": "Python 3",
   "name": "python3"
  },
  "language_info": {
   "codemirror_mode": {
    "name": "ipython",
    "version": 3
   },
   "file_extension": ".py",
   "mimetype": "text/x-python",
   "name": "python",
   "nbconvert_exporter": "python",
   "pygments_lexer": "ipython3",
   "version": "3.12.6"
  }
 },
 "nbformat": 4,
 "nbformat_minor": 0
}
